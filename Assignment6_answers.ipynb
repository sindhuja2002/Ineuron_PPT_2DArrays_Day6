{
  "nbformat": 4,
  "nbformat_minor": 0,
  "metadata": {
    "colab": {
      "provenance": []
    },
    "kernelspec": {
      "name": "python3",
      "display_name": "Python 3"
    },
    "language_info": {
      "name": "python"
    }
  },
  "cells": [
    {
      "cell_type": "code",
      "execution_count": 5,
      "metadata": {
        "colab": {
          "base_uri": "https://localhost:8080/"
        },
        "id": "YztQLskpC9gn",
        "outputId": "94688ced-f766-4c5f-f5d8-febcfe3b263e"
      },
      "outputs": [
        {
          "output_type": "stream",
          "name": "stdout",
          "text": [
            "[0, 4, 1, 3, 2]\n"
          ]
        }
      ],
      "source": [
        "#question 1\n",
        "def reconstructPermutation(s):\n",
        "    perm = []\n",
        "    n = len(s)\n",
        "    low, high = 0, n\n",
        "    \n",
        "    for ch in s:\n",
        "        if ch == 'I':\n",
        "            perm.append(low)\n",
        "            low += 1\n",
        "        else:  # ch == 'D'\n",
        "            perm.append(high)\n",
        "            high -= 1\n",
        "    \n",
        "    perm.append(low)  # or perm.append(high)\n",
        "    return perm\n",
        "    \n",
        "s = \"IDID\"\n",
        "reconstructed_perm = reconstructPermutation(s)\n",
        "print(reconstructed_perm)\n",
        "\n",
        "#TC - O(n)\n",
        "#SC - O(n)"
      ]
    },
    {
      "cell_type": "code",
      "source": [
        "#question 2\n",
        "def searchMatrix(matrix, target):\n",
        "    if not matrix or not matrix[0]:\n",
        "        return False\n",
        "    \n",
        "    rows = len(matrix)\n",
        "    cols = len(matrix[0])\n",
        "    left = 0\n",
        "    right = rows * cols - 1\n",
        "    \n",
        "    while left <= right:\n",
        "        mid = (left + right) // 2\n",
        "        mid_element = matrix[mid // cols][mid % cols]\n",
        "        \n",
        "        if mid_element == target:\n",
        "            return True\n",
        "        elif mid_element < target:\n",
        "            left = mid + 1\n",
        "        else:\n",
        "            right = mid - 1\n",
        "    \n",
        "    return False\n",
        "\n",
        "matrix = [[1,3,5,7],[10,11,16,20],[23,30,34,60]]\n",
        "target = 3\n",
        "print(searchMatrix(matrix, target))\n",
        "\n",
        "#TC - O(log(m*n))----binarysearch with m*n\n",
        "#SC - O(1)"
      ],
      "metadata": {
        "colab": {
          "base_uri": "https://localhost:8080/"
        },
        "id": "y9zOybqxGiRD",
        "outputId": "592dfd1c-d555-4a05-f359-93dc3fbe849f"
      },
      "execution_count": 4,
      "outputs": [
        {
          "output_type": "stream",
          "name": "stdout",
          "text": [
            "True\n"
          ]
        }
      ]
    },
    {
      "cell_type": "code",
      "source": [
        "#question 3\n",
        "def validMountainArray(arr):\n",
        "    n = len(arr)\n",
        "    if n < 3:\n",
        "        return False\n",
        "\n",
        "    # Check the increasing part of the mountain\n",
        "    i = 0\n",
        "    while i < n - 1 and arr[i] < arr[i + 1]:\n",
        "        i += 1\n",
        "\n",
        "    # If there is no increasing part or it's the last element, not a valid mountain\n",
        "    if i == 0 or i == n - 1:\n",
        "        return False\n",
        "\n",
        "    # Check the decreasing part of the mountain\n",
        "    while i < n - 1 and arr[i] > arr[i + 1]:\n",
        "        i += 1\n",
        "\n",
        "    # If we reached the end of the array, it's a valid mountain\n",
        "    return i == n - 1\n",
        "\n",
        "arr = [2, 1]\n",
        "print(validMountainArray(arr))\n",
        "\n",
        "#TC - O(n)\n",
        "#SC - O(1)"
      ],
      "metadata": {
        "colab": {
          "base_uri": "https://localhost:8080/"
        },
        "id": "3Gi4f8haHNFO",
        "outputId": "e99e8ada-19cd-452e-fc9f-92965d92e12b"
      },
      "execution_count": 6,
      "outputs": [
        {
          "output_type": "stream",
          "name": "stdout",
          "text": [
            "False\n"
          ]
        }
      ]
    },
    {
      "cell_type": "code",
      "source": [
        "#question 4\n",
        "def findMaxLength(nums):\n",
        "    max_length = 0\n",
        "    count = 0\n",
        "    sum_counts = {0: -1}\n",
        "\n",
        "    for i in range(len(nums)):\n",
        "        if nums[i] == 0:\n",
        "            count -= 1\n",
        "        else:\n",
        "            count += 1\n",
        "\n",
        "        if count in sum_counts:\n",
        "            max_length = max(max_length, i - sum_counts[count])\n",
        "        else:\n",
        "            sum_counts[count] = i\n",
        "\n",
        "    return max_length\n",
        "\n",
        "nums = [0, 1]\n",
        "print(findMaxLength(nums))\n",
        "\n",
        "#TC - O(n)\n",
        "#SC - O(n)"
      ],
      "metadata": {
        "colab": {
          "base_uri": "https://localhost:8080/"
        },
        "id": "MBOxreBcIROt",
        "outputId": "6c5dd2d9-dae4-4d07-e571-8de7de6d8688"
      },
      "execution_count": 7,
      "outputs": [
        {
          "output_type": "stream",
          "name": "stdout",
          "text": [
            "2\n"
          ]
        }
      ]
    },
    {
      "cell_type": "code",
      "source": [
        "#question 5\n",
        "def minProductSum(nums1, nums2):\n",
        "    nums1.sort()  # Sort nums1 in ascending order\n",
        "    nums2.sort(reverse=True)  # Sort nums2 in descending order\n",
        "    \n",
        "    n = len(nums1)\n",
        "    product_sum = sum(nums1[i] * nums2[i] for i in range(n))\n",
        "    \n",
        "    return product_sum\n",
        "\n",
        "nums1 = [5, 3, 4, 2]\n",
        "nums2 = [4, 2, 2, 5]\n",
        "print(minProductSum(nums1, nums2))\n",
        "\n",
        "#TC - O(nlogn)-----sorting array\n",
        "#SC - O(1)"
      ],
      "metadata": {
        "colab": {
          "base_uri": "https://localhost:8080/"
        },
        "id": "Sc-YyadBJDig",
        "outputId": "e684b437-10b6-4918-b656-31aeaabad156"
      },
      "execution_count": 8,
      "outputs": [
        {
          "output_type": "stream",
          "name": "stdout",
          "text": [
            "40\n"
          ]
        }
      ]
    },
    {
      "cell_type": "code",
      "source": [
        "#question 6\n",
        "from collections import Counter\n",
        "\n",
        "def findOriginalArray(changed):\n",
        "    if len(changed) % 2 != 0:\n",
        "        return []\n",
        "\n",
        "    counter = Counter(changed)      #logn\n",
        "    original = []\n",
        "\n",
        "    for num in sorted(changed):     #nlogn\n",
        "        if counter[num] == 0:\n",
        "            continue\n",
        "\n",
        "        double = num * 2\n",
        "\n",
        "        if counter[double] == 0:\n",
        "            return []\n",
        "\n",
        "        original.append(num)\n",
        "        counter[num] -= 1\n",
        "        counter[double] -= 1\n",
        "\n",
        "    return original\n",
        "\n",
        "# Example usage:\n",
        "changed = [1, 3, 4, 2, 6, 8]\n",
        "result = findOriginalArray(changed)\n",
        "print(result)\n",
        "\n",
        "#TC - O(nlogn)\n",
        "#SC - O(n)"
      ],
      "metadata": {
        "colab": {
          "base_uri": "https://localhost:8080/"
        },
        "id": "Kd2kOZm8Jjst",
        "outputId": "1e6df3f7-f86a-45fa-a7fd-12d85156596f"
      },
      "execution_count": 9,
      "outputs": [
        {
          "output_type": "stream",
          "name": "stdout",
          "text": [
            "[1, 3, 4]\n"
          ]
        }
      ]
    },
    {
      "cell_type": "code",
      "source": [
        "#question 7\n",
        "def generateMatrix(n):\n",
        "    matrix = [[0] * n for _ in range(n)]\n",
        "    num = 1\n",
        "    top, bottom, left, right = 0, n - 1, 0, n - 1\n",
        "    \n",
        "    while num <= n * n:\n",
        "        # Traverse right\n",
        "        for i in range(left, right + 1):\n",
        "            matrix[top][i] = num\n",
        "            num += 1\n",
        "        top += 1\n",
        "        \n",
        "        # Traverse down\n",
        "        for i in range(top, bottom + 1):\n",
        "            matrix[i][right] = num\n",
        "            num += 1\n",
        "        right -= 1\n",
        "        \n",
        "        # Traverse left\n",
        "        for i in range(right, left - 1, -1):\n",
        "            matrix[bottom][i] = num\n",
        "            num += 1\n",
        "        bottom -= 1\n",
        "        \n",
        "        # Traverse up\n",
        "        for i in range(bottom, top - 1, -1):\n",
        "            matrix[i][left] = num\n",
        "            num += 1\n",
        "        left += 1\n",
        "    \n",
        "    return matrix\n",
        "\n",
        "n = 3\n",
        "matrix = generateMatrix(n)\n",
        "for row in matrix:\n",
        "    print(row)\n",
        "\n",
        "#TC - O(n^2)\n",
        "#SC - O(n^2)"
      ],
      "metadata": {
        "colab": {
          "base_uri": "https://localhost:8080/"
        },
        "id": "M6V6CmILJ5XE",
        "outputId": "d3f09cff-0cab-49ff-e192-6e0fe1e95e6c"
      },
      "execution_count": 10,
      "outputs": [
        {
          "output_type": "stream",
          "name": "stdout",
          "text": [
            "[1, 2, 3]\n",
            "[8, 9, 4]\n",
            "[7, 6, 5]\n"
          ]
        }
      ]
    },
    {
      "cell_type": "code",
      "source": [
        "#question 8\n",
        "def multiply(mat1, mat2):\n",
        "    m, k = len(mat1), len(mat1[0])\n",
        "    k2, n = len(mat2), len(mat2[0])\n",
        "\n",
        "    result = [[0] * n for _ in range(m)]\n",
        "\n",
        "    for i in range(m):\n",
        "        for j in range(n):\n",
        "            for x in range(k):\n",
        "                result[i][j] += mat1[i][x] * mat2[x][j]\n",
        "\n",
        "    return result\n",
        "\n",
        "\n",
        "mat1 = [[1, 0, 0], [-1, 0, 3]]\n",
        "mat2 = [[7, 0, 0], [0, 0, 0], [0, 0, 1]]\n",
        "result = multiply(mat1, mat2)\n",
        "print(result)\n",
        "\n",
        "#TC - O(m*k*n)\n",
        "#SC - O(m*n)"
      ],
      "metadata": {
        "colab": {
          "base_uri": "https://localhost:8080/"
        },
        "id": "N5LigbLnKOdH",
        "outputId": "89fa333a-4dfb-488f-ace5-84f507c8a9d1"
      },
      "execution_count": 14,
      "outputs": [
        {
          "output_type": "stream",
          "name": "stdout",
          "text": [
            "[[7, 0, 0], [-7, 0, 3]]\n"
          ]
        }
      ]
    }
  ]
}